{
  "nbformat": 4,
  "nbformat_minor": 0,
  "metadata": {
    "colab": {
      "provenance": []
    },
    "kernelspec": {
      "name": "python3",
      "display_name": "Python 3"
    },
    "language_info": {
      "name": "python"
    }
  },
  "cells": [
    {
      "cell_type": "code",
      "source": [
        "!pip install scikit-posthocs"
      ],
      "metadata": {
        "collapsed": true,
        "colab": {
          "base_uri": "https://localhost:8080/"
        },
        "id": "_yzkB38hCEeQ",
        "outputId": "a3b12ded-71c1-4918-b5f3-a8904d0e9c32"
      },
      "execution_count": null,
      "outputs": [
        {
          "output_type": "stream",
          "name": "stdout",
          "text": [
            "Collecting scikit-posthocs\n",
            "  Downloading scikit_posthocs-0.11.4-py3-none-any.whl.metadata (5.8 kB)\n",
            "Requirement already satisfied: numpy in /usr/local/lib/python3.11/dist-packages (from scikit-posthocs) (2.0.2)\n",
            "Requirement already satisfied: scipy>=1.9.0 in /usr/local/lib/python3.11/dist-packages (from scikit-posthocs) (1.15.3)\n",
            "Requirement already satisfied: statsmodels in /usr/local/lib/python3.11/dist-packages (from scikit-posthocs) (0.14.4)\n",
            "Requirement already satisfied: pandas>=0.20.0 in /usr/local/lib/python3.11/dist-packages (from scikit-posthocs) (2.2.2)\n",
            "Requirement already satisfied: seaborn in /usr/local/lib/python3.11/dist-packages (from scikit-posthocs) (0.13.2)\n",
            "Requirement already satisfied: matplotlib in /usr/local/lib/python3.11/dist-packages (from scikit-posthocs) (3.10.0)\n",
            "Requirement already satisfied: python-dateutil>=2.8.2 in /usr/local/lib/python3.11/dist-packages (from pandas>=0.20.0->scikit-posthocs) (2.9.0.post0)\n",
            "Requirement already satisfied: pytz>=2020.1 in /usr/local/lib/python3.11/dist-packages (from pandas>=0.20.0->scikit-posthocs) (2025.2)\n",
            "Requirement already satisfied: tzdata>=2022.7 in /usr/local/lib/python3.11/dist-packages (from pandas>=0.20.0->scikit-posthocs) (2025.2)\n",
            "Requirement already satisfied: contourpy>=1.0.1 in /usr/local/lib/python3.11/dist-packages (from matplotlib->scikit-posthocs) (1.3.2)\n",
            "Requirement already satisfied: cycler>=0.10 in /usr/local/lib/python3.11/dist-packages (from matplotlib->scikit-posthocs) (0.12.1)\n",
            "Requirement already satisfied: fonttools>=4.22.0 in /usr/local/lib/python3.11/dist-packages (from matplotlib->scikit-posthocs) (4.58.0)\n",
            "Requirement already satisfied: kiwisolver>=1.3.1 in /usr/local/lib/python3.11/dist-packages (from matplotlib->scikit-posthocs) (1.4.8)\n",
            "Requirement already satisfied: packaging>=20.0 in /usr/local/lib/python3.11/dist-packages (from matplotlib->scikit-posthocs) (24.2)\n",
            "Requirement already satisfied: pillow>=8 in /usr/local/lib/python3.11/dist-packages (from matplotlib->scikit-posthocs) (11.2.1)\n",
            "Requirement already satisfied: pyparsing>=2.3.1 in /usr/local/lib/python3.11/dist-packages (from matplotlib->scikit-posthocs) (3.2.3)\n",
            "Requirement already satisfied: patsy>=0.5.6 in /usr/local/lib/python3.11/dist-packages (from statsmodels->scikit-posthocs) (1.0.1)\n",
            "Requirement already satisfied: six>=1.5 in /usr/local/lib/python3.11/dist-packages (from python-dateutil>=2.8.2->pandas>=0.20.0->scikit-posthocs) (1.17.0)\n",
            "Downloading scikit_posthocs-0.11.4-py3-none-any.whl (33 kB)\n",
            "Installing collected packages: scikit-posthocs\n",
            "Successfully installed scikit-posthocs-0.11.4\n"
          ]
        }
      ]
    },
    {
      "cell_type": "code",
      "source": [
        "import numpy as np\n",
        "from scipy.stats import friedmanchisquare, levene, wilcoxon\n",
        "import scikit_posthocs as sp\n",
        "import pandas as pd\n",
        "\n",
        "# Data for the first experiment: Alzheimer vs Control vs EMCI\n",
        "scores_et = np.array([0.94, 0.94, 0.96, 0.92666667, 0.92666667, 0.92, 0.95302013, 0.94630872, 0.91275168, 0.91946309])\n",
        "scores_rf = np.array([0.93333333, 0.92666667, 0.94, 0.92, 0.91333333, 0.92, 0.94630872, 0.93959732, 0.93288591, 0.91946309])\n",
        "scores_gb = np.array([0.90666667, 0.94666667, 0.95333333, 0.94, 0.91333333, 0.93333333, 0.95973154, 0.93288591, 0.93288591, 0.91275168])\n",
        "\n",
        "print(\"\\n--- Alzheimer vs Control vs EMCI ---\")\n",
        "\n",
        "# Friedman test\n",
        "stat, p = friedmanchisquare(scores_et, scores_rf, scores_gb)\n",
        "print(f\"Friedman test: statistic = {stat:.4f}, p-value = {p:.4f}\")\n",
        "\n",
        "if p < 0.05:\n",
        "    print(\"→ Significant differences found. Running Nemenyi post-hoc test...\")\n",
        "    data = np.vstack([scores_et, scores_rf, scores_gb]).T\n",
        "    nemenyi_result = sp.posthoc_nemenyi_friedman(data)\n",
        "    df_nemenyi = pd.DataFrame(nemenyi_result, columns=['ET', 'RF', 'GB'], index=['ET', 'RF', 'GB'])\n",
        "    print(\"\\nNemenyi post-hoc test (p-values):\")\n",
        "    print(df_nemenyi)\n",
        "\n",
        "# Levene test\n",
        "stat_var, p_var = levene(scores_et, scores_rf, scores_gb)\n",
        "print(f\"\\nLevene test (variance): statistic = {stat_var:.4f}, p-value = {p_var:.4f}\")\n",
        "\n",
        "# ---------------------------------------------------\n",
        "\n",
        "# Data for the second experiment: CN vs EMCI vs LMCI\n",
        "scores_et_2 = np.array([0.88111888, 0.81818182, 0.88111888, 0.83216783, 0.82517483, 0.86713287, 0.85314685, 0.86013986, 0.87412587, 0.84615385])\n",
        "scores_svm_2 = np.array([0.87412587, 0.83916084, 0.8951049, 0.79020979, 0.86713287, 0.83916084, 0.85314685, 0.83916084, 0.86013986, 0.84615385])\n",
        "scores_gb_2 = np.array([0.9020979, 0.86013986, 0.85314685, 0.82517483, 0.83916084, 0.86713287, 0.86013986, 0.84615385, 0.83216783, 0.84615385])\n",
        "\n",
        "print(\"\\n--- CN vs EMCI vs LMCI ---\")\n",
        "\n",
        "# Friedman test\n",
        "stat2, p2 = friedmanchisquare(scores_et_2, scores_svm_2, scores_gb_2)\n",
        "print(f\"Friedman test: statistic = {stat2:.4f}, p-value = {p2:.4f}\")\n",
        "\n",
        "if p2 < 0.05:\n",
        "    print(\"→ Significant differences found. Running Nemenyi post-hoc test...\")\n",
        "    data2 = np.vstack([scores_et_2, scores_svm_2, scores_gb_2]).T\n",
        "    nemenyi_result2 = sp.posthoc_nemenyi_friedman(data2)\n",
        "    df_nemenyi2 = pd.DataFrame(nemenyi_result2, columns=['ET', 'SVM', 'GB'], index=['ET', 'SVM', 'GB'])\n",
        "    print(\"\\nNemenyi post-hoc test (p-values):\")\n",
        "    print(df_nemenyi2)\n",
        "\n",
        "# Levene test\n",
        "stat_var2, p_var2 = levene(scores_et_2, scores_svm_2, scores_gb_2)\n",
        "print(f\"\\nLevene test (variance): statistic = {stat_var2:.4f}, p-value = {p_var2:.4f}\")\n",
        "\n",
        "# Direct comparison between ET and GB (Wilcoxon)\n",
        "print(\"\\nWilcoxon test between ET and GB:\")\n",
        "stat_wil, p_wil = wilcoxon(scores_et_2, scores_gb_2)\n",
        "print(f\"Wilcoxon test: statistic = {stat_wil:.4f}, p-value = {p_wil:.4f}\")\n",
        "\n",
        "# %%\n",
        "import numpy as np\n",
        "from scipy.stats import friedmanchisquare, levene, wilcoxon\n",
        "import scikit_posthocs as sp\n",
        "import pandas as pd\n",
        "\n",
        "def analyze_experiment(name, **models):\n",
        "    print(f\"\\n--- {name} ---\")\n",
        "\n",
        "    data = list(models.values())\n",
        "    model_names = list(models.keys())\n",
        "\n",
        "    # Friedman\n",
        "    if len(data) >= 3:\n",
        "        stat, p = friedmanchisquare(*data)\n",
        "        print(f\"Friedman test: statistic = {stat:.4f}, p-value = {p:.4f}\")\n",
        "        if p < 0.05:\n",
        "            print(\"→ Significant differences found. Running Nemenyi post-hoc test...\")\n",
        "            data_np = np.vstack(data).T\n",
        "            nemenyi = sp.posthoc_nemenyi_friedman(data_np)\n",
        "            nemenyi.columns = model_names\n",
        "            nemenyi.index = model_names\n",
        "            print(\"\\nNemenyi post-hoc test (p-values):\")\n",
        "            print(nemenyi)\n",
        "    elif len(data) == 2:\n",
        "        # Wilcoxon\n",
        "        stat_wil, p_wil = wilcoxon(data[0], data[1])\n",
        "        print(f\"Wilcoxon test between {model_names[0]} and {model_names[1]}: statistic = {stat_wil:.4f}, p-value = {p_wil:.4f}\")\n",
        "\n",
        "    # Levene\n",
        "    stat_lev, p_lev = levene(*data)\n",
        "    print(f\"Levene test (variance): statistic = {stat_lev:.4f}, p-value = {p_lev:.4f}\")"
      ],
      "metadata": {
        "colab": {
          "base_uri": "https://localhost:8080/"
        },
        "id": "hBwW8kpwB7kY",
        "outputId": "f7efbc6e-3cff-4452-db12-9112beda15a8"
      },
      "execution_count": null,
      "outputs": [
        {
          "output_type": "stream",
          "name": "stdout",
          "text": [
            "\n",
            "--- Alzheimer vs Control vs EMCI ---\n",
            "Friedman test: statistic = 2.8889, p-value = 0.2359\n",
            "\n",
            "Levene test (variance): statistic = 0.9076, p-value = 0.4155\n",
            "\n",
            "--- CN vs EMCI vs LMCI ---\n",
            "Friedman test: statistic = 1.1176, p-value = 0.5719\n",
            "\n",
            "Levene test (variance): statistic = 0.2149, p-value = 0.8080\n",
            "\n",
            "Wilcoxon test between ET and GB:\n",
            "Wilcoxon test: statistic = 17.5000, p-value = 0.9844\n"
          ]
        }
      ]
    },
    {
      "cell_type": "code",
      "source": [
        "# ========== New Experiments (ADASYN) ==========\n",
        "\n",
        "# 1. AD vs EMCI vs LMCI (SVM vs GB)\n",
        "svm_ad_emci_lmci = np.array([0.86259542, 0.82442748, 0.87022901, 0.84732824, 0.83206107,\n",
        "                             0.84732824, 0.86153846, 0.84615385, 0.87692308, 0.82307692])\n",
        "gb_ad_emci_lmci = np.array([0.84732824, 0.85496183, 0.86259542, 0.82442748, 0.79389313,\n",
        "                            0.87022901, 0.82307692, 0.86923077, 0.84615385, 0.86153846])\n",
        "analyze_experiment(\"AD vs EMCI vs LMCI (ADASYN)\", SVM=svm_ad_emci_lmci, GB=gb_ad_emci_lmci)\n",
        "\n",
        "# 2. CN vs EMCI vs LMCI (SVM vs GB)\n",
        "svm_cn_emci_lmci = np.array([0.79020979, 0.82517483, 0.77622378, 0.85314685, 0.83916084,\n",
        "                              0.80985915, 0.83802817, 0.85915493, 0.83098592, 0.80985915])\n",
        "gb_cn_emci_lmci = np.array([0.76923077, 0.7972028, 0.82517483, 0.81118881, 0.83916084,\n",
        "                             0.78873239, 0.85211268, 0.86619718, 0.83802817, 0.83802817])\n",
        "analyze_experiment(\"CN vs EMCI vs LMCI (ADASYN)\", SVM=svm_cn_emci_lmci, GB=gb_cn_emci_lmci)\n",
        "\n",
        "# 3. AD vs CN vs EMCI (ET vs GB)\n",
        "et_ad_cn_emci = np.array([0.92957746, 0.87323944, 0.94366197, 0.93617021, 0.90070922,\n",
        "                          0.90070922, 0.90070922, 0.92198582, 0.96453901, 0.95035461])\n",
        "gb_ad_cn_emci = np.array([0.94366197, 0.87323944, 0.94366197, 0.94326241, 0.92907801,\n",
        "                          0.91489362, 0.87234043, 0.88652482, 0.95035461, 0.96453901])\n",
        "analyze_experiment(\"AD vs CN vs EMCI (ADASYN)\", ET=et_ad_cn_emci, GB=gb_ad_cn_emci)"
      ],
      "metadata": {
        "colab": {
          "base_uri": "https://localhost:8080/"
        },
        "id": "6AMy5nsZCL3c",
        "outputId": "6a7c5031-2384-4b53-9de6-c68b7d701277"
      },
      "execution_count": null,
      "outputs": [
        {
          "output_type": "stream",
          "name": "stdout",
          "text": [
            "\n",
            "--- AD vs EMCI vs LMCI (ADASYN) ---\n",
            "Wilcoxon test between SVM and GB: statistic = 24.5000, p-value = 0.7949\n",
            "Levene test (variance): statistic = 0.3785, p-value = 0.5461\n",
            "\n",
            "--- CN vs EMCI vs LMCI (ADASYN) ---\n",
            "Wilcoxon test between SVM and GB: statistic = 22.0000, p-value = 1.0000\n",
            "Levene test (variance): statistic = 0.1761, p-value = 0.6798\n",
            "\n",
            "--- AD vs CN vs EMCI (ADASYN) ---\n",
            "Wilcoxon test between ET and GB: statistic = 17.5000, p-value = 0.9766\n",
            "Levene test (variance): statistic = 0.2327, p-value = 0.6354\n"
          ]
        }
      ]
    },
    {
      "cell_type": "code",
      "source": [
        "# 4. AD vs CN vs LMCI (NearMiss)\n",
        "rf_ad_cn_lmci = np.array([0.86666667, 0.7, 0.89655172, 0.96551724, 0.79310345,\n",
        "                          0.89655172, 0.82758621, 0.72413793, 0.75862069, 0.89655172])\n",
        "gb_ad_cn_lmci = np.array([0.86666667, 0.66666667, 0.86206897, 0.93103448, 0.86206897,\n",
        "                          0.86206897, 0.86206897, 0.72413793, 0.75862069, 0.89655172])\n",
        "analyze_experiment(\"AD vs CN vs LMCI (NearMiss)\", RF=rf_ad_cn_lmci, GB=gb_ad_cn_lmci)"
      ],
      "metadata": {
        "id": "s4ChoOtODpfX",
        "outputId": "a5cb6ca5-6590-4ab0-d749-e94a4c78a45d",
        "colab": {
          "base_uri": "https://localhost:8080/"
        }
      },
      "execution_count": null,
      "outputs": [
        {
          "output_type": "stream",
          "name": "stdout",
          "text": [
            "\n",
            "--- AD vs CN vs LMCI (NearMiss) ---\n",
            "Wilcoxon test between RF and GB: statistic = 10.5000, p-value = 1.0000\n",
            "Levene test (variance): statistic = 0.4358, p-value = 0.5175\n"
          ]
        }
      ]
    }
  ]
}